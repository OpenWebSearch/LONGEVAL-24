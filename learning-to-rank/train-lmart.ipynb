{
 "cells": [
  {
   "cell_type": "code",
   "execution_count": null,
   "metadata": {},
   "outputs": [],
   "source": [
    "# re-install tira from github, for faster prototyping\n",
    "# !pip3 uninstall -y tira\n",
    "# !pip3 install git+https://github.com/tira-io/tira.git@development#\\&subdirectory=python-client"
   ]
  },
  {
   "cell_type": "code",
   "execution_count": 15,
   "metadata": {},
   "outputs": [],
   "source": [
    "import pyterrier as pt\n",
    "import pandas as pd\n",
    "from tira.third_party_integrations import ensure_pyterrier_is_loaded\n",
    "from tira.rest_api_client import Client\n",
    "from feature_extraction import *\n",
    "import pickle\n",
    "import lightgbm as lgb\n",
    "import skopt\n",
    "import warnings\n",
    "from pprint import pprint\n",
    "import json\n",
    "\n",
    "warnings.filterwarnings('ignore')\n",
    "\n",
    "ensure_pyterrier_is_loaded()\n",
    "tira = Client()"
   ]
  },
  {
   "cell_type": "code",
   "execution_count": 2,
   "metadata": {},
   "outputs": [],
   "source": [
    "dataset = pt.get_dataset('irds:ir-benchmarks/longeval-train-20230513-training')\n",
    "\n",
    "bm25 = tira.pt.from_submission('ir-benchmarks/tira-ir-starter/BM25 Re-Rank (tira-ir-starter-pyterrier)', dataset)\n",
    "extract_features = get_all_features(tira, dataset)"
   ]
  },
  {
   "cell_type": "code",
   "execution_count": 3,
   "metadata": {},
   "outputs": [],
   "source": [
    "BASE_PARAMS = {\n",
    "    'task': 'train',\n",
    "    'metric': 'ndcg',\n",
    "    'importance_type': 'gain',\n",
    "    'eval_at': '10',\n",
    "    'early_stopping_rounds': 30,\n",
    "    'verbosity': -1,\n",
    "}"
   ]
  },
  {
   "cell_type": "code",
   "execution_count": 4,
   "metadata": {},
   "outputs": [],
   "source": [
    "SEARCH_PARAMS = {\n",
    "    'boosting_type': 'gbdt',\n",
    "    'learning_rate': 0.4,\n",
    "    # 'max_depth': 7,\n",
    "    'num_leaves': 31,\n",
    "    'n_estimators': 100,\n",
    "    'feature_fraction': 0.8,\n",
    "    'subsample': 0.2,\n",
    "}\n",
    "\n",
    "SPACE = [\n",
    "    skopt.space.Categorical(['gbdt', 'dart'], name='boosting_type'),\n",
    "    skopt.space.Real(0.01, 0.5, name='learning_rate', prior='log-uniform'),\n",
    "    # skopt.space.Integer(1, 15, name='max_depth'),\n",
    "    skopt.space.Integer(2, 255, name='num_leaves'),\n",
    "    skopt.space.Integer(2, 500, name='n_estimators'),\n",
    "    skopt.space.Real(0.1, 1.0, name='feature_fraction', prior='uniform'),\n",
    "    skopt.space.Real(0.1, 1.0, name='subsample', prior='uniform')\n",
    "]"
   ]
  },
  {
   "cell_type": "code",
   "execution_count": 5,
   "metadata": {},
   "outputs": [],
   "source": [
    "topics_train = pd.read_csv('../splits/topics_train.csv')\n",
    "qrels_train = pd.read_csv('../splits/qrels_train.csv')\n",
    "topics_val = pd.read_csv('../splits/topics_val.csv')\n",
    "qrels_val = pd.read_csv('../splits/qrels_val.csv')"
   ]
  },
  {
   "cell_type": "code",
   "execution_count": 6,
   "metadata": {},
   "outputs": [],
   "source": [
    "@skopt.utils.use_named_args(SPACE)\n",
    "def objective(**params):\n",
    "    return -train_and_evaluate(**params, **BASE_PARAMS)\n",
    "\n",
    "def train_and_evaluate(**params):\n",
    "    lmart = lgb.LGBMRanker(**params)\n",
    "\n",
    "    fit_kwargs = {}\n",
    "    pipeline = (bm25 % 1000) >> extract_features >> pt.ltr.apply_learned_model(lmart, form=\"ltr\", fit_kwargs=fit_kwargs)\n",
    "\n",
    "    pipeline.fit(topics_train, qrels_train, topics_val, qrels_val)\n",
    "\n",
    "    return pt.Experiment(\n",
    "        [pipeline],\n",
    "        topics_val,\n",
    "        qrels_val,\n",
    "        eval_metrics=['ndcg_cut_10']\n",
    "    )['ndcg_cut_10'].iloc[0]"
   ]
  },
  {
   "cell_type": "code",
   "execution_count": 7,
   "metadata": {},
   "outputs": [],
   "source": [
    "results = skopt.forest_minimize(objective, SPACE, n_calls=100, n_random_starts=10)"
   ]
  },
  {
   "cell_type": "code",
   "execution_count": 20,
   "metadata": {},
   "outputs": [
    {
     "name": "stdout",
     "output_type": "stream",
     "text": [
      "{'boosting_type': 'gbdt',\n",
      " 'early_stopping_rounds': 30,\n",
      " 'eval_at': '10',\n",
      " 'feature_fraction': 0.18997710683028857,\n",
      " 'importance_type': 'gain',\n",
      " 'learning_rate': 0.30611910385605584,\n",
      " 'metric': 'ndcg',\n",
      " 'n_estimators': 395,\n",
      " 'num_leaves': 3,\n",
      " 'subsample': 0.27877340579034704,\n",
      " 'task': 'train',\n",
      " 'verbosity': -1}\n"
     ]
    }
   ],
   "source": [
    "best_params = {param.name: getattr(value, \"item\", lambda: value)() for param, value in zip(SPACE, results.x)}\n",
    "\n",
    "pprint({**best_params, **BASE_PARAMS})"
   ]
  },
  {
   "cell_type": "code",
   "execution_count": 11,
   "metadata": {},
   "outputs": [],
   "source": [
    "lmart = lgb.LGBMRanker(**best_params, **BASE_PARAMS)"
   ]
  },
  {
   "cell_type": "code",
   "execution_count": 12,
   "metadata": {},
   "outputs": [],
   "source": [
    "\n",
    "pipeline = (bm25 % 1000) >> extract_features >> pt.ltr.apply_learned_model(lmart, form=\"ltr\")"
   ]
  },
  {
   "cell_type": "code",
   "execution_count": 13,
   "metadata": {},
   "outputs": [],
   "source": [
    "pipeline.fit(topics_train, qrels_train, topics_val, qrels_val)"
   ]
  },
  {
   "cell_type": "code",
   "execution_count": 14,
   "metadata": {},
   "outputs": [],
   "source": [
    "with open('lmart.pkl', 'wb') as f:\n",
    "    pickle.dump(lmart, f)\n"
   ]
  },
  {
   "cell_type": "code",
   "execution_count": 21,
   "metadata": {},
   "outputs": [],
   "source": [
    "with open('params.json', 'w') as f:\n",
    "    json.dump({**best_params, **BASE_PARAMS}, f)"
   ]
  }
 ],
 "metadata": {
  "kernelspec": {
   "display_name": "Python 3",
   "language": "python",
   "name": "python3"
  },
  "language_info": {
   "codemirror_mode": {
    "name": "ipython",
    "version": 3
   },
   "file_extension": ".py",
   "mimetype": "text/x-python",
   "name": "python",
   "nbconvert_exporter": "python",
   "pygments_lexer": "ipython3",
   "version": "3.10.12"
  }
 },
 "nbformat": 4,
 "nbformat_minor": 2
}
