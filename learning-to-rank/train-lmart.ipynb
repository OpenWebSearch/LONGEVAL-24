{
 "cells": [
  {
   "cell_type": "code",
   "execution_count": 1,
   "metadata": {},
   "outputs": [],
   "source": [
    "# re-install tira from github, for faster prototyping\n",
    "# !pip3 uninstall -y tira\n",
    "# !pip3 install git+https://github.com/tira-io/tira.git@development#\\&subdirectory=python-client"
   ]
  },
  {
   "cell_type": "code",
   "execution_count": 2,
   "metadata": {},
   "outputs": [],
   "source": [
    "# %pip install lightgbm\n",
    "# %pip install scikit-optimize"
   ]
  },
  {
   "cell_type": "code",
   "execution_count": 3,
   "metadata": {},
   "outputs": [
    {
     "name": "stderr",
     "output_type": "stream",
     "text": [
      "PyTerrier 0.10.0 has loaded Terrier 5.8 (built by craigm on 2023-11-01 18:05) and terrier-helper 0.0.8\n",
      "\n",
      "No etc/terrier.properties, using terrier.default.properties for bootstrap configuration.\n"
     ]
    }
   ],
   "source": [
    "import pickle\n",
    "import warnings\n",
    "import json\n",
    "\n",
    "import pyterrier as pt\n",
    "import pandas as pd\n",
    "import lightgbm as lgb\n",
    "import skopt\n",
    "\n",
    "from tira.third_party_integrations import ensure_pyterrier_is_loaded\n",
    "from tira.rest_api_client import Client\n",
    "\n",
    "from config import MODELS\n",
    "\n",
    "warnings.filterwarnings('ignore')\n",
    "\n",
    "ensure_pyterrier_is_loaded()\n",
    "tira = Client()"
   ]
  },
  {
   "cell_type": "code",
   "execution_count": 4,
   "metadata": {},
   "outputs": [],
   "source": [
    "dataset = pt.get_dataset('irds:ir-benchmarks/longeval-2023-01-20240423-training')\n",
    "\n",
    "bm25 = tira.pt.from_submission('ir-benchmarks/tira-ir-starter/BM25 Re-Rank (tira-ir-starter-pyterrier)', dataset)"
   ]
  },
  {
   "cell_type": "code",
   "execution_count": 5,
   "metadata": {},
   "outputs": [],
   "source": [
    "BASE_PARAMS = {\n",
    "    'task': 'train',\n",
    "    'metric': 'ndcg',\n",
    "    'importance_type': 'gain',\n",
    "    'eval_at': '10',\n",
    "    'early_stopping_rounds': 30,\n",
    "    'verbosity': -1,\n",
    "}"
   ]
  },
  {
   "cell_type": "code",
   "execution_count": 6,
   "metadata": {},
   "outputs": [],
   "source": [
    "SEARCH_PARAMS = {\n",
    "    'boosting_type': 'gbdt',\n",
    "    'learning_rate': 0.4,\n",
    "    # 'max_depth': 7,\n",
    "    'num_leaves': 31,\n",
    "    'n_estimators': 100,\n",
    "    'feature_fraction': 0.8,\n",
    "    'subsample': 0.2,\n",
    "}\n",
    "\n",
    "SPACE = [\n",
    "    skopt.space.Categorical(['gbdt', 'dart'], name='boosting_type'),\n",
    "    skopt.space.Real(0.01, 0.5, name='learning_rate', prior='log-uniform'),\n",
    "    # skopt.space.Integer(1, 15, name='max_depth'),\n",
    "    skopt.space.Integer(2, 255, name='num_leaves'),\n",
    "    skopt.space.Integer(2, 500, name='n_estimators'),\n",
    "    skopt.space.Real(0.1, 1.0, name='feature_fraction', prior='uniform'),\n",
    "    skopt.space.Real(0.1, 1.0, name='subsample', prior='uniform')\n",
    "]"
   ]
  },
  {
   "cell_type": "code",
   "execution_count": 7,
   "metadata": {},
   "outputs": [],
   "source": [
    "# from sklearn.model_selection import train_test_split\n",
    "\n",
    "# topics = pd.read_csv('../splits/2024/topics_train.csv')\n",
    "# qrels = pd.read_csv('../splits/2024/qrels_train.csv')\n",
    "\n",
    "# topics_train, topics_val = train_test_split(topics, test_size=0.2)\n",
    "\n",
    "# qrels_train = qrels.loc[qrels['qid'].isin(topics_train['qid'])]\n",
    "# qrels_val = qrels.loc[qrels['qid'].isin(topics_val['qid'])]\n",
    "\n",
    "# assert len(qrels_train) + len(qrels_val) == len(qrels)\n",
    "\n",
    "topics_train = pd.read_csv('../splits/2024/topics_train.csv')\n",
    "qrels_train = pd.read_csv('../splits/2024/qrels_train.csv')\n",
    "topics_val = pd.read_csv('../splits/2024/topics_val.csv')\n",
    "qrels_val = pd.read_csv('../splits/2024/qrels_val.csv')"
   ]
  },
  {
   "cell_type": "code",
   "execution_count": 8,
   "metadata": {},
   "outputs": [],
   "source": [
    "def train_pipeline(extract_features, **params):\n",
    "    lmart = lgb.LGBMRanker(**params)\n",
    "\n",
    "    pipeline = (bm25 % 1000) >> extract_features >> pt.ltr.apply_learned_model(lmart, form=\"ltr\")\n",
    "    pipeline.fit(topics_train, qrels_train, topics_val, qrels_val)\n",
    "\n",
    "    return pipeline, lmart\n",
    "\n",
    "def get_train_objective(extract_features):\n",
    "    @skopt.utils.use_named_args(SPACE)\n",
    "    def objective(**params):\n",
    "        return -train_and_evaluate(**params, **BASE_PARAMS)\n",
    "\n",
    "    def train_and_evaluate(**params):\n",
    "        pipeline, _ = train_pipeline(extract_features, **params)        \n",
    "\n",
    "        return pt.Experiment(\n",
    "            [pipeline],\n",
    "            topics_val,\n",
    "            qrels_val,\n",
    "            eval_metrics=['ndcg_cut_10']\n",
    "        )['ndcg_cut_10'].iloc[0]\n",
    "\n",
    "    return objective"
   ]
  },
  {
   "cell_type": "code",
   "execution_count": 10,
   "metadata": {},
   "outputs": [
    {
     "name": "stdout",
     "output_type": "stream",
     "text": [
      "Optimizing parameters for wows_only\n",
      "Optimizing parameters for wows_base_rerank\n",
      "Optimizing parameters for wows_all_rerank\n",
      "Optimizing parameters for wows_rerank_and_keyquery\n",
      "Optimizing parameters for wows_rerank_and_reverted_index\n",
      "Optimizing parameters for all\n"
     ]
    }
   ],
   "source": [
    "OPTIMIZE_HYPERPARAMS = True\n",
    "\n",
    "for name, get_feature_extractor in MODELS.items():\n",
    "    extract_features = get_feature_extractor(tira, dataset)\n",
    "\n",
    "    if OPTIMIZE_HYPERPARAMS:\n",
    "        print(f'Optimizing parameters for {name}')\n",
    "\n",
    "        results = skopt.forest_minimize(get_train_objective(extract_features), SPACE, n_calls=100, n_random_starts=10)\n",
    "\n",
    "        tuned_params = {param.name: getattr(value, \"item\", lambda: value)() for param, value in zip(SPACE, results.x)}\n",
    "        all_params = {**tuned_params, **BASE_PARAMS}\n",
    "\n",
    "        with open(f'models/params_{name}.json', 'w') as f:\n",
    "            json.dump(all_params, f)\n",
    "\n",
    "    else:\n",
    "        print(f'Using pre-optimized parameters for {name}')\n",
    "\n",
    "        with open(f'models/params_{name}.json', 'r') as f:\n",
    "            all_params = json.load(f)\n",
    "\n",
    "    _, lmart = train_pipeline(extract_features, **all_params)\n",
    "\n",
    "    with open(f'models/lmart_{name}.pkl', 'wb') as f:\n",
    "        pickle.dump(lmart, f)"
   ]
  }
 ],
 "metadata": {
  "kernelspec": {
   "display_name": "Python 3",
   "language": "python",
   "name": "python3"
  },
  "language_info": {
   "codemirror_mode": {
    "name": "ipython",
    "version": 3
   },
   "file_extension": ".py",
   "mimetype": "text/x-python",
   "name": "python",
   "nbconvert_exporter": "python",
   "pygments_lexer": "ipython3",
   "version": "3.10.12"
  }
 },
 "nbformat": 4,
 "nbformat_minor": 2
}
