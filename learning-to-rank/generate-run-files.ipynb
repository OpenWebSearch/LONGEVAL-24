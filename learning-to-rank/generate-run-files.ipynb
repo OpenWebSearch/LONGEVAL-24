{
 "cells": [
  {
   "cell_type": "code",
   "execution_count": 1,
   "metadata": {},
   "outputs": [
    {
     "name": "stderr",
     "output_type": "stream",
     "text": [
      "PyTerrier 0.10.0 has loaded Terrier 5.8 (built by craigm on 2023-11-01 18:05) and terrier-helper 0.0.8\n",
      "\n",
      "No etc/terrier.properties, using terrier.default.properties for bootstrap configuration.\n"
     ]
    }
   ],
   "source": [
    "from pathlib import Path\n",
    "import pickle\n",
    "import warnings\n",
    "\n",
    "import pyterrier as pt\n",
    "import pandas as pd\n",
    "\n",
    "from tira.third_party_integrations import ensure_pyterrier_is_loaded\n",
    "from tira.rest_api_client import Client\n",
    "\n",
    "from config import DATASETS, MODELS, AVAILABLE_DATASETS_PER_MODEL\n",
    "\n",
    "\n",
    "warnings.filterwarnings('ignore')\n",
    "\n",
    "ensure_pyterrier_is_loaded()\n",
    "tira = Client()"
   ]
  },
  {
   "cell_type": "code",
   "execution_count": 2,
   "metadata": {},
   "outputs": [],
   "source": [
    "RUN_PREFIX = 'ows_ltr'\n",
    "RUN_DIR = Path('../runs/')"
   ]
  },
  {
   "cell_type": "code",
   "execution_count": 3,
   "metadata": {},
   "outputs": [],
   "source": [
    "def create_run(model_name: str, run_suffix: str):\n",
    "    dataset = pt.get_dataset(f'irds:ir-benchmarks/{DATASETS[run_suffix]}')\n",
    "\n",
    "    extract_features = MODELS[model_name](tira, dataset)\n",
    "\n",
    "    bm25 = tira.pt.from_submission('ir-benchmarks/tira-ir-starter/BM25 Re-Rank (tira-ir-starter-pyterrier)', dataset)\n",
    "\n",
    "    with open(f'models/lmart_{model_name}.pkl', 'rb') as f:\n",
    "        lmart = pickle.load(f)\n",
    "\n",
    "    pipeline = (bm25 % 1000) >> extract_features >> pt.ltr.apply_learned_model(lmart, form=\"ltr\")\n",
    "\n",
    "    run = pipeline(dataset.get_topics(variant='query'))\n",
    "\n",
    "    run_name = f'{RUN_PREFIX}_{model_name}'\n",
    "    run_file = RUN_DIR / run_name / f'{run_name}.{run_suffix}'\n",
    "    run_file.parent.mkdir(exist_ok=True, parents=True)\n",
    "\n",
    "    pt.io.write_results(run, run_file, format='trec', run_name=run_name)"
   ]
  },
  {
   "cell_type": "code",
   "execution_count": 4,
   "metadata": {},
   "outputs": [
    {
     "name": "stdout",
     "output_type": "stream",
     "text": [
      "Creating ows_ltr_wows_only.train_2023...\n",
      "Creating ows_ltr_wows_only.WT...\n",
      "Creating ows_ltr_wows_only.ST...\n",
      "Creating ows_ltr_wows_only.LT...\n",
      "Creating ows_ltr_wows_only.train_2024...\n",
      "Creating ows_ltr_wows_only.lag6...\n",
      "Creating ows_ltr_wows_only.lag8...\n",
      "Creating ows_ltr_wows_base_rerank.train_2023...\n",
      "Creating ows_ltr_wows_base_rerank.WT...\n",
      "Creating ows_ltr_wows_base_rerank.ST...\n",
      "Creating ows_ltr_wows_base_rerank.LT...\n",
      "Creating ows_ltr_wows_base_rerank.train_2024...\n",
      "Creating ows_ltr_wows_base_rerank.lag6...\n",
      "Creating ows_ltr_wows_base_rerank.lag8...\n",
      "Creating ows_ltr_wows_all_rerank.train_2023...\n",
      "Creating ows_ltr_wows_all_rerank.WT...\n",
      "Creating ows_ltr_wows_all_rerank.train_2024...\n",
      "Creating ows_ltr_wows_all_rerank.lag6...\n",
      "Creating ows_ltr_wows_all_rerank.lag8...\n",
      "Creating ows_ltr_wows_rerank_and_keyquery.train_2024...\n",
      "Creating ows_ltr_wows_rerank_and_keyquery.lag6...\n",
      "Creating ows_ltr_wows_rerank_and_keyquery.lag8...\n",
      "Creating ows_ltr_wows_rerank_and_reverted_index.train_2024...\n",
      "Creating ows_ltr_wows_rerank_and_reverted_index.lag6...\n",
      "Creating ows_ltr_wows_rerank_and_reverted_index.lag8...\n",
      "Creating ows_ltr_all.train_2024...\n",
      "Creating ows_ltr_all.lag6...\n",
      "Creating ows_ltr_all.lag8...\n"
     ]
    }
   ],
   "source": [
    "for model_name, available_datasets in AVAILABLE_DATASETS_PER_MODEL.items():\n",
    "    for run_suffix in available_datasets:\n",
    "        print(f'Creating {RUN_PREFIX}_{model_name}.{run_suffix}...')\n",
    "        create_run(model_name, run_suffix)"
   ]
  }
 ],
 "metadata": {
  "kernelspec": {
   "display_name": "Python 3",
   "language": "python",
   "name": "python3"
  },
  "language_info": {
   "codemirror_mode": {
    "name": "ipython",
    "version": 3
   },
   "file_extension": ".py",
   "mimetype": "text/x-python",
   "name": "python",
   "nbconvert_exporter": "python",
   "pygments_lexer": "ipython3",
   "version": "3.10.12"
  }
 },
 "nbformat": 4,
 "nbformat_minor": 2
}
