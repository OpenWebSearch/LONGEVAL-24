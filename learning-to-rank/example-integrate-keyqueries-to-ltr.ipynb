{
 "cells": [
  {
   "cell_type": "code",
   "execution_count": 3,
   "metadata": {},
   "outputs": [],
   "source": [
    "import pyterrier as pt\n",
    "from tira.third_party_integrations import ensure_pyterrier_is_loaded\n",
    "from tira.rest_api_client import Client\n",
    "import pandas as pd\n",
    "from collections import defaultdict\n",
    "\n",
    "ensure_pyterrier_is_loaded()\n",
    "tira = Client()"
   ]
  },
  {
   "cell_type": "code",
   "execution_count": 5,
   "metadata": {},
   "outputs": [],
   "source": [
    "dataset_id = 'longeval-2023-01-20240423-training'\n",
    "dataset = pt.get_dataset(f'irds:ir-benchmarks/{dataset_id}')"
   ]
  },
  {
   "cell_type": "code",
   "execution_count": 8,
   "metadata": {},
   "outputs": [],
   "source": [
    "offset = '2022'\n",
    "\n",
    "def keyquery_score_dict(offset, expansion_method, retrieval_model, fb_terms, fb_docs, dataset_id, return_transformer=True):\n",
    "    f = tira.get_run_output(f'ir-benchmarks/ows/time-keyquery-offset-{offset}', dataset_id)\n",
    "    f = pd.read_json(f'{f}/{expansion_method}_{retrieval_model}_{fb_terms}_{fb_docs}.jsonl.gz', lines=True)\n",
    "    default_value = [0, 0]\n",
    "    ret = defaultdict(lambda: defaultdict(lambda: default_value))\n",
    "\n",
    "    for _, i in f.iterrows():\n",
    "        if i['qid'] not in ret:\n",
    "            ret[i['qid']] = defaultdict(lambda: default_value)\n",
    "        \n",
    "        ret[i['qid']][i['docno']] = [1, i['score']]\n",
    "\n",
    "    return ret\n",
    "\n",
    "keyquery_dict = keyquery_score_dict(offset, 'bo1', 'BM25', 30, 5, dataset_id)"
   ]
  },
  {
   "cell_type": "code",
   "execution_count": null,
   "metadata": {},
   "outputs": [],
   "source": [
    "# the keyquery dict currently provides vector with two positions:\n",
    "# - dimension zero is: 0 if the query was not seen before, 1 if the query was seen before\n",
    "# - dimension one is the score of the document for the query, or 0 if the query was not seen before"
   ]
  },
  {
   "cell_type": "code",
   "execution_count": 9,
   "metadata": {},
   "outputs": [
    {
     "data": {
      "text/plain": [
       "[0, 0]"
      ]
     },
     "execution_count": 9,
     "metadata": {},
     "output_type": "execute_result"
    }
   ],
   "source": [
    "#one example of something that is not in the past data:\n",
    "keyquery_dict['q012318']['doc012308410757']"
   ]
  },
  {
   "cell_type": "code",
   "execution_count": 10,
   "metadata": {},
   "outputs": [
    {
     "data": {
      "text/plain": [
       "[1, 46.0106946616]"
      ]
     },
     "execution_count": 10,
     "metadata": {},
     "output_type": "execute_result"
    }
   ],
   "source": [
    "#one example of something that is in the reverted index:\n",
    "keyquery_dict['q0123836']['doc012303707027']"
   ]
  }
 ],
 "metadata": {
  "kernelspec": {
   "display_name": "Python 3",
   "language": "python",
   "name": "python3"
  },
  "language_info": {
   "codemirror_mode": {
    "name": "ipython",
    "version": 3
   },
   "file_extension": ".py",
   "mimetype": "text/x-python",
   "name": "python",
   "nbconvert_exporter": "python",
   "pygments_lexer": "ipython3",
   "version": "3.10.12"
  }
 },
 "nbformat": 4,
 "nbformat_minor": 2
}
