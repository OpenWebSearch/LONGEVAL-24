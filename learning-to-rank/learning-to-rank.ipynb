{
 "cells": [
  {
   "cell_type": "markdown",
   "id": "73cd0d64",
   "metadata": {},
   "source": [
    "# Interesting features\n",
    "## Query-based features\n",
    "- Query Performance Prediction\n",
    "- Query Intent Prediction\n",
    "\n",
    "- Comparative Query Classification\n",
    "  - Is there a comparative information need -> comparison intent\n",
    "\n",
    "- Entity Linking / Query Interpretation\n",
    "  - Entity count\n",
    "  - Average entity score / variance of entity score / min / max\n",
    "\n",
    "## Document-based features\n",
    "- Genre Classification\n",
    "- Health Classification\n",
    "- Readability/Quality/Coherence Features\n",
    "\n",
    "## Document-query features\n",
    "- Splade\n",
    "- monoT5\n",
    "- BM25\n",
    "\n",
    "## Expansion -> re-retrieve\n",
    "- DocT5Query\n",
    "- LLM Query Expansion\n",
    "- Entity Linking: BM25 if we use the top entity for retrieval / 0 if no entities\n",
    "\n",
    "# Data\n",
    "- `longeval-train-20230513-training`\n",
    "- `longeval-heldout-20230513-training`\n",
    "- `longeval-short-july-20230513-training`\n",
    "- `longeval-long-september-20230513-training`"
   ]
  },
  {
   "cell_type": "code",
   "execution_count": 1,
   "id": "initial_id",
   "metadata": {
    "collapsed": true,
    "jupyter": {
     "is_executing": true
    }
   },
   "outputs": [
    {
     "name": "stderr",
     "output_type": "stream",
     "text": [
      "PyTerrier 0.10.0 has loaded Terrier 5.8 (built by craigm on 2023-11-01 18:05) and terrier-helper 0.0.8\n",
      "\n",
      "No etc/terrier.properties, using terrier.default.properties for bootstrap configuration.\n"
     ]
    }
   ],
   "source": [
    "import pyterrier as pt\n",
    "from tira.third_party_integrations import ensure_pyterrier_is_loaded\n",
    "from tira.rest_api_client import Client\n",
    "\n",
    "ensure_pyterrier_is_loaded()\n",
    "tira = Client()"
   ]
  },
  {
   "cell_type": "code",
   "execution_count": 2,
   "id": "2aa4f8ba",
   "metadata": {},
   "outputs": [],
   "source": [
    "def empty_docno(value=1):\n",
    "    def __transform(df):\n",
    "        if 'docno' in df.columns:\n",
    "            return df\n",
    "\n",
    "        res = df.copy()\n",
    "        res['docno'] = value\n",
    "\n",
    "        return res\n",
    "\n",
    "    return pt.apply.generic(__transform)\n",
    "\n",
    "\n",
    "def remove_docno():\n",
    "    return pt.apply.generic(lambda df: df.drop(columns=['docno']))\n",
    "\n",
    "\n",
    "def columns_to_features(columns, cols_to_keep=('docno', 'query', 'qid')):\n",
    "    def __transform(df):\n",
    "        if 'features' in df.columns:\n",
    "            raise ValueError(\"Cannot merge features into a dataframe that already has a 'features' column\")\n",
    "\n",
    "        res = df[[col for col in cols_to_keep if col in df.columns]].copy()\n",
    "\n",
    "        features = df[columns].values\n",
    "        res['features'] = list(features.reshape((len(features), -1)))\n",
    "\n",
    "        return res\n",
    "\n",
    "    return pt.apply.generic(__transform)  #  >> empty_docno()"
   ]
  },
  {
   "cell_type": "code",
   "execution_count": 3,
   "id": "ad4b5067",
   "metadata": {},
   "outputs": [
    {
     "data": {
      "text/html": [
       "<div>\n",
       "<style scoped>\n",
       "    .dataframe tbody tr th:only-of-type {\n",
       "        vertical-align: middle;\n",
       "    }\n",
       "\n",
       "    .dataframe tbody tr th {\n",
       "        vertical-align: top;\n",
       "    }\n",
       "\n",
       "    .dataframe thead th {\n",
       "        text-align: right;\n",
       "    }\n",
       "</style>\n",
       "<table border=\"1\" class=\"dataframe\">\n",
       "  <thead>\n",
       "    <tr style=\"text-align: right;\">\n",
       "      <th></th>\n",
       "      <th>qid</th>\n",
       "      <th>query</th>\n",
       "    </tr>\n",
       "  </thead>\n",
       "  <tbody>\n",
       "    <tr>\n",
       "      <th>0</th>\n",
       "      <td>q06223196</td>\n",
       "      <td>car shelter</td>\n",
       "    </tr>\n",
       "    <tr>\n",
       "      <th>1</th>\n",
       "      <td>q062228</td>\n",
       "      <td>airport</td>\n",
       "    </tr>\n",
       "    <tr>\n",
       "      <th>2</th>\n",
       "      <td>q062287</td>\n",
       "      <td>antivirus comparison</td>\n",
       "    </tr>\n",
       "    <tr>\n",
       "      <th>3</th>\n",
       "      <td>q06223261</td>\n",
       "      <td>free antivirus</td>\n",
       "    </tr>\n",
       "    <tr>\n",
       "      <th>4</th>\n",
       "      <td>q062291</td>\n",
       "      <td>orange antivirus</td>\n",
       "    </tr>\n",
       "    <tr>\n",
       "      <th>...</th>\n",
       "      <td>...</td>\n",
       "      <td>...</td>\n",
       "    </tr>\n",
       "    <tr>\n",
       "      <th>667</th>\n",
       "      <td>q062224914</td>\n",
       "      <td>tax garden shed</td>\n",
       "    </tr>\n",
       "    <tr>\n",
       "      <th>668</th>\n",
       "      <td>q062224961</td>\n",
       "      <td>land of france</td>\n",
       "    </tr>\n",
       "    <tr>\n",
       "      <th>669</th>\n",
       "      <td>q062225030</td>\n",
       "      <td>find my training pole job</td>\n",
       "    </tr>\n",
       "    <tr>\n",
       "      <th>670</th>\n",
       "      <td>q062225194</td>\n",
       "      <td>gpl car</td>\n",
       "    </tr>\n",
       "    <tr>\n",
       "      <th>671</th>\n",
       "      <td>q062225197</td>\n",
       "      <td>cheapest car</td>\n",
       "    </tr>\n",
       "  </tbody>\n",
       "</table>\n",
       "<p>672 rows × 2 columns</p>\n",
       "</div>"
      ],
      "text/plain": [
       "            qid                      query\n",
       "0     q06223196                car shelter\n",
       "1       q062228                    airport\n",
       "2       q062287       antivirus comparison\n",
       "3     q06223261             free antivirus\n",
       "4       q062291           orange antivirus\n",
       "..          ...                        ...\n",
       "667  q062224914            tax garden shed\n",
       "668  q062224961             land of france\n",
       "669  q062225030  find my training pole job\n",
       "670  q062225194                    gpl car\n",
       "671  q062225197               cheapest car\n",
       "\n",
       "[672 rows x 2 columns]"
      ]
     },
     "execution_count": 3,
     "metadata": {},
     "output_type": "execute_result"
    }
   ],
   "source": [
    "dataset = pt.get_dataset(\"irds:ir-benchmarks/longeval-train-20230513-training\")\n",
    "topics = dataset.get_topics(variant='text')\n",
    "\n",
    "topics"
   ]
  },
  {
   "cell_type": "markdown",
   "id": "d7cbdd1d",
   "metadata": {},
   "source": [
    "# Query-based features"
   ]
  },
  {
   "cell_type": "code",
   "execution_count": 4,
   "id": "be8a3762",
   "metadata": {},
   "outputs": [],
   "source": [
    "topics = dataset.get_topics(variant='text')\n",
    "\n",
    "qpp = tira.pt.transform_queries('ir-benchmarks/qpptk/all-predictors', dataset) >> columns_to_features(['max-idf', 'avg-idf', 'scq', 'max-scq', 'avg-scq', 'var', 'max-var', 'avg-var', 'wig+10', 'nqc+100', 'smv+100'])\n",
    "intent_prediction = tira.pt.transform_queries('ir-benchmarks/dossier/pre-retrieval-query-intent', dataset) >> columns_to_features('intent_prediction')\n",
    "\n",
    "# query_features = empty_docno() >> (intent_prediction ** qpp) >> remove_docno()\n",
    "query_features = intent_prediction ** qpp\n",
    "\n",
    "# query_features(topics)"
   ]
  },
  {
   "cell_type": "markdown",
   "id": "358efa46",
   "metadata": {},
   "source": [
    "# Document-based features"
   ]
  },
  {
   "cell_type": "code",
   "execution_count": 5,
   "id": "424cf68d",
   "metadata": {},
   "outputs": [],
   "source": [
    "document_health_classification = tira.pt.transform_documents(\"ir-benchmarks/fschlatt/document-health-classification\", dataset)\n",
    "genre_mlp_classifier = tira.pt.transform_documents('ir-benchmarks/tu-dresden-01/genre-mlp', dataset)\n",
    "\n",
    "document_features = document_health_classification ** genre_mlp_classifier"
   ]
  },
  {
   "cell_type": "markdown",
   "id": "c1959a33",
   "metadata": {},
   "source": [
    "# Document-query features"
   ]
  },
  {
   "cell_type": "code",
   "execution_count": 6,
   "id": "41756a75",
   "metadata": {},
   "outputs": [
    {
     "name": "stdout",
     "output_type": "stream",
     "text": [
      "4808\n",
      "The run file is normalized outside the TIRA sandbox, I will store it at \"/tmp/tmp13gtbm_q-rerank-run\".\n",
      "Done. run file is stored under \"/tmp/tmp13gtbm_q-rerank-run/run.txt\".\n"
     ]
    },
    {
     "name": "stderr",
     "output_type": "stream",
     "text": [
      "docker: Cannot connect to the Docker daemon at unix:///var/run/docker.sock. Is the docker daemon running?.\n",
      "See 'docker run --help'.\n"
     ]
    },
    {
     "ename": "ValueError",
     "evalue": "Command ['docker', 'run', '-v', '/root/.tira/pyterrier/ir-benchmarks/longeval-train-20230513-training/irds-cache/:/root/.ir_datasets/:rw', '-v', '/tmp/tmp13gtbm_q-rerank-run:/output/:rw', '--entrypoint', '/irds_cli.sh', 'webis/tira-application:0.0.36', '--output_dataset_path', '/output', '--ir_datasets_id', 'ir-benchmarks/longeval-train-20230513-training', '--rerank', '/output'] did exit with return code 125.",
     "output_type": "error",
     "traceback": [
      "\u001b[0;31m---------------------------------------------------------------------------\u001b[0m",
      "\u001b[0;31mValueError\u001b[0m                                Traceback (most recent call last)",
      "Cell \u001b[0;32mIn[6], line 7\u001b[0m\n\u001b[1;32m      4\u001b[0m res_bm25 \u001b[38;5;241m=\u001b[39m (bm25 \u001b[38;5;241m%\u001b[39m \u001b[38;5;241m10\u001b[39m)(topics)\n\u001b[1;32m      5\u001b[0m \u001b[38;5;28mprint\u001b[39m(res_bm25[\u001b[38;5;124m'\u001b[39m\u001b[38;5;124mdocno\u001b[39m\u001b[38;5;124m'\u001b[39m]\u001b[38;5;241m.\u001b[39mnunique())\n\u001b[0;32m----> 7\u001b[0m res_monot5 \u001b[38;5;241m=\u001b[39m \u001b[43mmonot5\u001b[49m\u001b[43m(\u001b[49m\u001b[43mres_bm25\u001b[49m\u001b[43m)\u001b[49m\n\u001b[1;32m      8\u001b[0m \u001b[38;5;28mprint\u001b[39m(res_monot5[\u001b[38;5;124m'\u001b[39m\u001b[38;5;124mdocno\u001b[39m\u001b[38;5;124m'\u001b[39m]\u001b[38;5;241m.\u001b[39mnunique())\n\u001b[1;32m     10\u001b[0m \u001b[38;5;66;03m# doc_query_features = bm25 ** monot5\u001b[39;00m\n",
      "File \u001b[0;32m/usr/local/lib/python3.10/dist-packages/pyterrier/transformer.py:223\u001b[0m, in \u001b[0;36mTransformer.__call__\u001b[0;34m(self, input)\u001b[0m\n\u001b[1;32m    218\u001b[0m \u001b[38;5;250m\u001b[39m\u001b[38;5;124;03m\"\"\"\u001b[39;00m\n\u001b[1;32m    219\u001b[0m \u001b[38;5;124;03m    Sets up a default method for every transformer, which is aliased to transform() (for DataFrames)\u001b[39;00m\n\u001b[1;32m    220\u001b[0m \u001b[38;5;124;03m    or transform_iter() (for iterable dictionaries) depending on the type of input. \u001b[39;00m\n\u001b[1;32m    221\u001b[0m \u001b[38;5;124;03m\"\"\"\u001b[39;00m\n\u001b[1;32m    222\u001b[0m \u001b[38;5;28;01mif\u001b[39;00m \u001b[38;5;28misinstance\u001b[39m(\u001b[38;5;28minput\u001b[39m, pd\u001b[38;5;241m.\u001b[39mDataFrame):\n\u001b[0;32m--> 223\u001b[0m     \u001b[38;5;28;01mreturn\u001b[39;00m \u001b[38;5;28;43mself\u001b[39;49m\u001b[38;5;241;43m.\u001b[39;49m\u001b[43mtransform\u001b[49m\u001b[43m(\u001b[49m\u001b[38;5;28;43minput\u001b[39;49m\u001b[43m)\u001b[49m\n\u001b[1;32m    224\u001b[0m \u001b[38;5;28;01mreturn\u001b[39;00m \u001b[38;5;28mself\u001b[39m\u001b[38;5;241m.\u001b[39mtransform_iter(\u001b[38;5;28minput\u001b[39m)\n",
      "File \u001b[0;32m/usr/local/lib/python3.10/dist-packages/tira/pyterrier_util.py:116\u001b[0m, in \u001b[0;36mTiraLocalExecutionRerankingTransformer.transform\u001b[0;34m(self, topics)\u001b[0m\n\u001b[1;32m    113\u001b[0m \u001b[38;5;28;01massert\u001b[39;00m \u001b[38;5;124m\"\u001b[39m\u001b[38;5;124mqid\u001b[39m\u001b[38;5;124m\"\u001b[39m \u001b[38;5;129;01min\u001b[39;00m topics\u001b[38;5;241m.\u001b[39mcolumns\n\u001b[1;32m    115\u001b[0m tmp_directory \u001b[38;5;241m=\u001b[39m tempfile\u001b[38;5;241m.\u001b[39mTemporaryDirectory(\u001b[38;5;124m'\u001b[39m\u001b[38;5;124m-pt-tira-local-execution-reranking-transformer\u001b[39m\u001b[38;5;124m'\u001b[39m)\u001b[38;5;241m.\u001b[39mname\n\u001b[0;32m--> 116\u001b[0m input_dir \u001b[38;5;241m=\u001b[39m \u001b[38;5;28;43mself\u001b[39;49m\u001b[38;5;241;43m.\u001b[39;49m\u001b[43mtira_client\u001b[49m\u001b[38;5;241;43m.\u001b[39;49m\u001b[43mpt\u001b[49m\u001b[38;5;241;43m.\u001b[39;49m\u001b[43mcreate_rerank_file\u001b[49m\u001b[43m(\u001b[49m\u001b[43mrun_df\u001b[49m\u001b[38;5;241;43m=\u001b[39;49m\u001b[43mtopics\u001b[49m\u001b[43m,\u001b[49m\u001b[43m \u001b[49m\u001b[43mirds_dataset_id\u001b[49m\u001b[38;5;241;43m=\u001b[39;49m\u001b[38;5;28;43mself\u001b[39;49m\u001b[38;5;241;43m.\u001b[39;49m\u001b[43mirds_id\u001b[49m\u001b[43m)\u001b[49m\n\u001b[1;32m    117\u001b[0m output_dir \u001b[38;5;241m=\u001b[39m tmp_directory \u001b[38;5;241m+\u001b[39m \u001b[38;5;124m'\u001b[39m\u001b[38;5;124m/output\u001b[39m\u001b[38;5;124m'\u001b[39m\n\u001b[1;32m    118\u001b[0m os\u001b[38;5;241m.\u001b[39mmakedirs(output_dir)\n",
      "File \u001b[0;32m/usr/local/lib/python3.10/dist-packages/tira/pyterrier_integration.py:71\u001b[0m, in \u001b[0;36mPyTerrierIntegration.create_rerank_file\u001b[0;34m(self, run_df, run_file, irds_dataset_id)\u001b[0m\n\u001b[1;32m     68\u001b[0m     cache_dir \u001b[38;5;241m=\u001b[39m \u001b[38;5;28mself\u001b[39m\u001b[38;5;241m.\u001b[39mtira_client\u001b[38;5;241m.\u001b[39mtira_cache_dir \u001b[38;5;241m+\u001b[39m \u001b[38;5;124m'\u001b[39m\u001b[38;5;124m/pyterrier/\u001b[39m\u001b[38;5;124m'\u001b[39m \u001b[38;5;241m+\u001b[39m irds_dataset_id\n\u001b[1;32m     69\u001b[0m     irds_cache \u001b[38;5;241m=\u001b[39m cache_dir \u001b[38;5;241m+\u001b[39m \u001b[38;5;124m'\u001b[39m\u001b[38;5;124m/irds-cache/\u001b[39m\u001b[38;5;124m'\u001b[39m\n\u001b[0;32m---> 71\u001b[0m     \u001b[43mrun_cmd\u001b[49m\u001b[43m(\u001b[49m\u001b[43m[\u001b[49m\u001b[38;5;124;43m'\u001b[39;49m\u001b[38;5;124;43mdocker\u001b[39;49m\u001b[38;5;124;43m'\u001b[39;49m\u001b[43m,\u001b[49m\u001b[43m \u001b[49m\u001b[38;5;124;43m'\u001b[39;49m\u001b[38;5;124;43mrun\u001b[39;49m\u001b[38;5;124;43m'\u001b[39;49m\u001b[43m,\u001b[49m\n\u001b[1;32m     72\u001b[0m \u001b[43m             \u001b[49m\u001b[38;5;124;43m'\u001b[39;49m\u001b[38;5;124;43m-v\u001b[39;49m\u001b[38;5;124;43m'\u001b[39;49m\u001b[43m,\u001b[49m\u001b[43m \u001b[49m\u001b[43mirds_cache\u001b[49m\u001b[43m \u001b[49m\u001b[38;5;241;43m+\u001b[39;49m\u001b[43m \u001b[49m\u001b[38;5;124;43m'\u001b[39;49m\u001b[38;5;124;43m:/root/.ir_datasets/:rw\u001b[39;49m\u001b[38;5;124;43m'\u001b[39;49m\u001b[43m,\u001b[49m\n\u001b[1;32m     73\u001b[0m \u001b[43m             \u001b[49m\u001b[38;5;124;43m'\u001b[39;49m\u001b[38;5;124;43m-v\u001b[39;49m\u001b[38;5;124;43m'\u001b[39;49m\u001b[43m,\u001b[49m\u001b[43m \u001b[49m\u001b[43mrun_file\u001b[49m\u001b[43m \u001b[49m\u001b[38;5;241;43m+\u001b[39;49m\u001b[43m \u001b[49m\u001b[38;5;124;43m'\u001b[39;49m\u001b[38;5;124;43m:/output/:rw\u001b[39;49m\u001b[38;5;124;43m'\u001b[39;49m\u001b[43m,\u001b[49m\n\u001b[1;32m     74\u001b[0m \u001b[43m             \u001b[49m\u001b[38;5;124;43m'\u001b[39;49m\u001b[38;5;124;43m--entrypoint\u001b[39;49m\u001b[38;5;124;43m'\u001b[39;49m\u001b[43m,\u001b[49m\u001b[43m \u001b[49m\u001b[38;5;124;43m'\u001b[39;49m\u001b[38;5;124;43m/irds_cli.sh\u001b[39;49m\u001b[38;5;124;43m'\u001b[39;49m\u001b[43m,\u001b[49m\n\u001b[1;32m     75\u001b[0m \u001b[43m             \u001b[49m\u001b[38;5;28;43mself\u001b[39;49m\u001b[38;5;241;43m.\u001b[39;49m\u001b[43mirds_docker_image\u001b[49m\u001b[43m,\u001b[49m\n\u001b[1;32m     76\u001b[0m \u001b[43m             \u001b[49m\u001b[38;5;124;43m'\u001b[39;49m\u001b[38;5;124;43m--output_dataset_path\u001b[39;49m\u001b[38;5;124;43m'\u001b[39;49m\u001b[43m,\u001b[49m\u001b[43m \u001b[49m\u001b[38;5;124;43m'\u001b[39;49m\u001b[38;5;124;43m/output\u001b[39;49m\u001b[38;5;124;43m'\u001b[39;49m\u001b[43m,\u001b[49m\n\u001b[1;32m     77\u001b[0m \u001b[43m             \u001b[49m\u001b[38;5;124;43m'\u001b[39;49m\u001b[38;5;124;43m--ir_datasets_id\u001b[39;49m\u001b[38;5;124;43m'\u001b[39;49m\u001b[43m,\u001b[49m\u001b[43m \u001b[49m\u001b[43mirds_dataset_id\u001b[49m\u001b[43m,\u001b[49m\n\u001b[1;32m     78\u001b[0m \u001b[43m             \u001b[49m\u001b[38;5;124;43m'\u001b[39;49m\u001b[38;5;124;43m--rerank\u001b[39;49m\u001b[38;5;124;43m'\u001b[39;49m\u001b[43m,\u001b[49m\u001b[43m \u001b[49m\u001b[38;5;124;43m'\u001b[39;49m\u001b[38;5;124;43m/output\u001b[39;49m\u001b[38;5;124;43m'\u001b[39;49m\n\u001b[1;32m     79\u001b[0m \u001b[43m    \u001b[49m\u001b[43m]\u001b[49m\u001b[43m)\u001b[49m\n\u001b[1;32m     80\u001b[0m \u001b[38;5;28;01melse\u001b[39;00m:\n\u001b[1;32m     81\u001b[0m     \u001b[38;5;28;01mwith\u001b[39;00m gzip\u001b[38;5;241m.\u001b[39mopen(run_file \u001b[38;5;241m+\u001b[39m \u001b[38;5;124m'\u001b[39m\u001b[38;5;124m/rerank.jsonl.gz\u001b[39m\u001b[38;5;124m'\u001b[39m, \u001b[38;5;124m'\u001b[39m\u001b[38;5;124mwt\u001b[39m\u001b[38;5;124m'\u001b[39m) \u001b[38;5;28;01mas\u001b[39;00m f:\n",
      "File \u001b[0;32m/usr/local/lib/python3.10/dist-packages/tira/io_utils.py:125\u001b[0m, in \u001b[0;36mrun_cmd\u001b[0;34m(cmd, ignore_failure)\u001b[0m\n\u001b[1;32m    122\u001b[0m exit_code \u001b[38;5;241m=\u001b[39m subprocess\u001b[38;5;241m.\u001b[39mcall(cmd)\n\u001b[1;32m    124\u001b[0m \u001b[38;5;28;01mif\u001b[39;00m \u001b[38;5;129;01mnot\u001b[39;00m ignore_failure \u001b[38;5;129;01mand\u001b[39;00m exit_code \u001b[38;5;241m!=\u001b[39m \u001b[38;5;241m0\u001b[39m:\n\u001b[0;32m--> 125\u001b[0m     \u001b[38;5;28;01mraise\u001b[39;00m \u001b[38;5;167;01mValueError\u001b[39;00m(\u001b[38;5;124mf\u001b[39m\u001b[38;5;124m'\u001b[39m\u001b[38;5;124mCommand \u001b[39m\u001b[38;5;132;01m{\u001b[39;00mcmd\u001b[38;5;132;01m}\u001b[39;00m\u001b[38;5;124m did exit with return code \u001b[39m\u001b[38;5;132;01m{\u001b[39;00mexit_code\u001b[38;5;132;01m}\u001b[39;00m\u001b[38;5;124m.\u001b[39m\u001b[38;5;124m'\u001b[39m)\n",
      "\u001b[0;31mValueError\u001b[0m: Command ['docker', 'run', '-v', '/root/.tira/pyterrier/ir-benchmarks/longeval-train-20230513-training/irds-cache/:/root/.ir_datasets/:rw', '-v', '/tmp/tmp13gtbm_q-rerank-run:/output/:rw', '--entrypoint', '/irds_cli.sh', 'webis/tira-application:0.0.36', '--output_dataset_path', '/output', '--ir_datasets_id', 'ir-benchmarks/longeval-train-20230513-training', '--rerank', '/output'] did exit with return code 125."
     ]
    }
   ],
   "source": [
    "bm25 = tira.pt.from_submission('ir-benchmarks/tira-ir-starter/BM25 (tira-ir-starter-pyterrier)', dataset)\n",
    "monot5 = tira.pt.reranker('ir-benchmarks/tira-ir-starter/MonoT5 Base (tira-ir-starter-gygaggle)', irds_id='ir-benchmarks/longeval-train-20230513-training')\n",
    "\n",
    "res_bm25 = (bm25 % 10)(topics)\n",
    "print(res_bm25['docno'].nunique())\n",
    "\n",
    "res_monot5 = monot5(res_bm25)\n",
    "print(res_monot5['docno'].nunique())\n",
    "\n",
    "# doc_query_features = bm25 ** monot5"
   ]
  },
  {
   "cell_type": "code",
   "execution_count": null,
   "id": "c6c2f165",
   "metadata": {},
   "outputs": [],
   "source": [
    "# full_pipeline = (bm25 % 1000) >> (query_features ** doc_query_features ** document_features)"
   ]
  }
 ],
 "metadata": {
  "kernelspec": {
   "display_name": "Python 3",
   "language": "python",
   "name": "python3"
  },
  "language_info": {
   "codemirror_mode": {
    "name": "ipython",
    "version": 3
   },
   "file_extension": ".py",
   "mimetype": "text/x-python",
   "name": "python",
   "nbconvert_exporter": "python",
   "pygments_lexer": "ipython3",
   "version": "3.10.12"
  }
 },
 "nbformat": 4,
 "nbformat_minor": 5
}
