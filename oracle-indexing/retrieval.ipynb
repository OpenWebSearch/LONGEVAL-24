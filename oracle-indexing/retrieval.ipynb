{
 "cells": [
  {
   "cell_type": "code",
   "execution_count": 86,
   "metadata": {},
   "outputs": [],
   "source": [
    "from tira.third_party_integrations import ensure_pyterrier_is_loaded, persist_and_normalize_run, ir_datasets\n",
    "from tira.rest_api_client import Client\n",
    "\n",
    "# This method ensures that that PyTerrier is loaded so that it also works in the TIRA sandbox\n",
    "ensure_pyterrier_is_loaded()\n",
    "import pyterrier as pt\n",
    "\n",
    "tira = Client()"
   ]
  },
  {
   "cell_type": "code",
   "execution_count": 2,
   "metadata": {},
   "outputs": [],
   "source": [
    "dataset_id = 'longeval-long-september-20230513-training'"
   ]
  },
  {
   "cell_type": "code",
   "execution_count": 25,
   "metadata": {},
   "outputs": [],
   "source": [
    "def similar_documents(dataset_ids):\n",
    "    import gzip\n",
    "    import json\n",
    "    ret = []\n",
    "    file_name = tira.get_run_output('ir-benchmarks/ows/isobaric-warbler', dataset_id) + '/corpus-graph-over-time.jsonl.gz'\n",
    "    with gzip.open(file_name, 'rt') as f:\n",
    "        for l in f:\n",
    "            l = json.loads(l)\n",
    "            if not dataset_ids or l['dataset'] in dataset_ids:\n",
    "                ret.append(l)\n",
    "    return ret"
   ]
  },
  {
   "cell_type": "code",
   "execution_count": 20,
   "metadata": {},
   "outputs": [],
   "source": [
    "def top_2_multiplicator(h):\n",
    "    if h['rank'] == 0:\n",
    "        return 2\n",
    "    elif h['rank'] == 1:\n",
    "        return 1\n",
    "    else:\n",
    "        return 0"
   ]
  },
  {
   "cell_type": "code",
   "execution_count": 23,
   "metadata": {},
   "outputs": [],
   "source": [
    "assert 2 == top_2_multiplicator({ 'rank': 0 })\n",
    "assert 1 == top_2_multiplicator({ 'rank': 1 })\n",
    "assert 0 == top_2_multiplicator({ 'rank': 4 })"
   ]
  },
  {
   "cell_type": "code",
   "execution_count": 30,
   "metadata": {},
   "outputs": [],
   "source": [
    "def document_texts_in_reverted_index(similar_documents,multiplicator):\n",
    "    ret = {}\n",
    "\n",
    "    for i in similar_documents:\n",
    "        q = i['query']\n",
    "        if i['relevance'] < 1:\n",
    "            continue\n",
    "\n",
    "        for hit in i['top_bm25_results']:\n",
    "            m = multiplicator(hit)\n",
    "            additional_text = ' '.join([q]*m)\n",
    "            if hit['docno'] not in ret:\n",
    "                ret[hit['docno']] = ''\n",
    "            \n",
    "            ret[hit['docno']] += ' ' + additional_text\n",
    "    \n",
    "    return [{'docno': k, 'text': v.strip()} for k,v in ret.items() if len(v.strip()) > 0]\n"
   ]
  },
  {
   "cell_type": "code",
   "execution_count": 113,
   "metadata": {},
   "outputs": [],
   "source": [
    "sim_docs = similar_documents((\n",
    "    'longeval-train-20230513-training', 'longeval-heldout-20230513-training', 'longeval-short-july-20230513-training'\n",
    "))\n",
    "docs = document_texts_in_reverted_index(sim_docs, top_2_multiplicator)"
   ]
  },
  {
   "cell_type": "code",
   "execution_count": 114,
   "metadata": {},
   "outputs": [
    {
     "data": {
      "text/plain": [
       "6829"
      ]
     },
     "execution_count": 114,
     "metadata": {},
     "output_type": "execute_result"
    }
   ],
   "source": [
    "len(docs)"
   ]
  },
  {
   "cell_type": "code",
   "execution_count": 115,
   "metadata": {},
   "outputs": [
    {
     "name": "stdout",
     "output_type": "stream",
     "text": [
      "16:43:11.144 [ForkJoinPool-7-worker-3] WARN org.terrier.structures.indexing.Indexer - Adding an empty document to the index (doc092209804898) - further warnings are suppressed\n",
      "16:43:11.343 [ForkJoinPool-7-worker-3] WARN org.terrier.structures.indexing.Indexer - Indexed 11 empty documents\n"
     ]
    }
   ],
   "source": [
    "iter_indexer = pt.IterDictIndexer(\"./index\", meta={'docno': 50, 'text': 4096}, overwrite=True)\n",
    "index = iter_indexer.index(docs)"
   ]
  },
  {
   "cell_type": "code",
   "execution_count": 116,
   "metadata": {},
   "outputs": [],
   "source": [
    "bm25 = pt.BatchRetrieve(index, wmodel=\"BM25\", verbose=True)"
   ]
  },
  {
   "cell_type": "code",
   "execution_count": 117,
   "metadata": {},
   "outputs": [
    {
     "name": "stdout",
     "output_type": "stream",
     "text": [
      "372\n"
     ]
    }
   ],
   "source": [
    "overlapping_queries = set([i['query'].lower().strip() for i in sim_docs])\n",
    "queries = {i.query_id:i.text for i in ir_datasets.load(f'ir-benchmarks/{dataset_id}').queries_iter()}\n",
    "overlapping_queries = set([k for k,v in queries.items() if v.lower().strip() in overlapping_queries])\n",
    "del queries\n",
    "print(len(overlapping_queries))\n"
   ]
  },
  {
   "cell_type": "code",
   "execution_count": 118,
   "metadata": {},
   "outputs": [
    {
     "name": "stdout",
     "output_type": "stream",
     "text": [
      "Create run\n"
     ]
    },
    {
     "name": "stderr",
     "output_type": "stream",
     "text": [
      "BR(BM25): 100%|██████████| 923/923 [00:14<00:00, 65.39q/s] \n"
     ]
    },
    {
     "name": "stdout",
     "output_type": "stream",
     "text": [
      "I use the environment variable \"TIRA_OUTPUT_DIR\" to determine where I should store the run file using \".\" as default.\n",
      "Done. run file is stored under \"./run.txt\".\n",
      "Done, run was created\n"
     ]
    }
   ],
   "source": [
    "print('Create run')\n",
    "pt_dataset = pt.get_dataset(f'irds:ir-benchmarks/{dataset_id}')\n",
    "run = bm25(pt_dataset.get_topics(\"title\"))\n",
    "persist_and_normalize_run(run, 'reverted-index')\n",
    "print('Done, run was created')\n"
   ]
  },
  {
   "cell_type": "code",
   "execution_count": 119,
   "metadata": {},
   "outputs": [
    {
     "data": {
      "text/html": [
       "<div>\n",
       "<style scoped>\n",
       "    .dataframe tbody tr th:only-of-type {\n",
       "        vertical-align: middle;\n",
       "    }\n",
       "\n",
       "    .dataframe tbody tr th {\n",
       "        vertical-align: top;\n",
       "    }\n",
       "\n",
       "    .dataframe thead th {\n",
       "        text-align: right;\n",
       "    }\n",
       "</style>\n",
       "<table border=\"1\" class=\"dataframe\">\n",
       "  <thead>\n",
       "    <tr style=\"text-align: right;\">\n",
       "      <th></th>\n",
       "      <th>qid</th>\n",
       "      <th>query</th>\n",
       "    </tr>\n",
       "  </thead>\n",
       "  <tbody>\n",
       "    <tr>\n",
       "      <th>0</th>\n",
       "      <td>q092223595</td>\n",
       "      <td>car shelter</td>\n",
       "    </tr>\n",
       "    <tr>\n",
       "      <th>4</th>\n",
       "      <td>q092244</td>\n",
       "      <td>airport</td>\n",
       "    </tr>\n",
       "    <tr>\n",
       "      <th>9</th>\n",
       "      <td>q0922131</td>\n",
       "      <td>free antivirus</td>\n",
       "    </tr>\n",
       "    <tr>\n",
       "      <th>10</th>\n",
       "      <td>q092232659</td>\n",
       "      <td>colloidal silver</td>\n",
       "    </tr>\n",
       "    <tr>\n",
       "      <th>11</th>\n",
       "      <td>q0922171</td>\n",
       "      <td>silverwood</td>\n",
       "    </tr>\n",
       "    <tr>\n",
       "      <th>...</th>\n",
       "      <td>...</td>\n",
       "      <td>...</td>\n",
       "    </tr>\n",
       "    <tr>\n",
       "      <th>908</th>\n",
       "      <td>q092236192</td>\n",
       "      <td>second world war</td>\n",
       "    </tr>\n",
       "    <tr>\n",
       "      <th>911</th>\n",
       "      <td>q092236371</td>\n",
       "      <td>download video facebook</td>\n",
       "    </tr>\n",
       "    <tr>\n",
       "      <th>913</th>\n",
       "      <td>q092236385</td>\n",
       "      <td>farmland</td>\n",
       "    </tr>\n",
       "    <tr>\n",
       "      <th>917</th>\n",
       "      <td>q092236647</td>\n",
       "      <td>video projector</td>\n",
       "    </tr>\n",
       "    <tr>\n",
       "      <th>922</th>\n",
       "      <td>q092236763</td>\n",
       "      <td>unlicensed car</td>\n",
       "    </tr>\n",
       "  </tbody>\n",
       "</table>\n",
       "<p>372 rows × 2 columns</p>\n",
       "</div>"
      ],
      "text/plain": [
       "            qid                    query\n",
       "0    q092223595              car shelter\n",
       "4       q092244                  airport\n",
       "9      q0922131           free antivirus\n",
       "10   q092232659         colloidal silver\n",
       "11     q0922171               silverwood\n",
       "..          ...                      ...\n",
       "908  q092236192         second world war\n",
       "911  q092236371  download video facebook\n",
       "913  q092236385                 farmland\n",
       "917  q092236647          video projector\n",
       "922  q092236763           unlicensed car\n",
       "\n",
       "[372 rows x 2 columns]"
      ]
     },
     "execution_count": 119,
     "metadata": {},
     "output_type": "execute_result"
    }
   ],
   "source": [
    "topics = pt_dataset.get_topics(\"title\")\n",
    "topics = topics[topics['qid'].isin(overlapping_queries)]\n",
    "topics"
   ]
  },
  {
   "cell_type": "code",
   "execution_count": 120,
   "metadata": {},
   "outputs": [
    {
     "data": {
      "text/html": [
       "<div>\n",
       "<style scoped>\n",
       "    .dataframe tbody tr th:only-of-type {\n",
       "        vertical-align: middle;\n",
       "    }\n",
       "\n",
       "    .dataframe tbody tr th {\n",
       "        vertical-align: top;\n",
       "    }\n",
       "\n",
       "    .dataframe thead th {\n",
       "        text-align: right;\n",
       "    }\n",
       "</style>\n",
       "<table border=\"1\" class=\"dataframe\">\n",
       "  <thead>\n",
       "    <tr style=\"text-align: right;\">\n",
       "      <th></th>\n",
       "      <th>name</th>\n",
       "      <th>ndcg_cut.10</th>\n",
       "      <th>recip_rank</th>\n",
       "      <th>recall_1000</th>\n",
       "    </tr>\n",
       "  </thead>\n",
       "  <tbody>\n",
       "    <tr>\n",
       "      <th>0</th>\n",
       "      <td>BM25</td>\n",
       "      <td>0.180857</td>\n",
       "      <td>0.269993</td>\n",
       "      <td>0.516569</td>\n",
       "    </tr>\n",
       "    <tr>\n",
       "      <th>1</th>\n",
       "      <td>Sparse Cross Encoder</td>\n",
       "      <td>0.216468</td>\n",
       "      <td>0.322682</td>\n",
       "      <td>0.516569</td>\n",
       "    </tr>\n",
       "    <tr>\n",
       "      <th>2</th>\n",
       "      <td>BM25 (reverted index)</td>\n",
       "      <td>0.376305</td>\n",
       "      <td>0.534087</td>\n",
       "      <td>0.640151</td>\n",
       "    </tr>\n",
       "  </tbody>\n",
       "</table>\n",
       "</div>"
      ],
      "text/plain": [
       "                    name  ndcg_cut.10  recip_rank  recall_1000\n",
       "0                   BM25     0.180857    0.269993     0.516569\n",
       "1   Sparse Cross Encoder     0.216468    0.322682     0.516569\n",
       "2  BM25 (reverted index)     0.376305    0.534087     0.640151"
      ]
     },
     "execution_count": 120,
     "metadata": {},
     "output_type": "execute_result"
    }
   ],
   "source": [
    "# This assumes we have execited the retrieve-with-pyterrier.ipynb notebook before to create the run.txt file\n",
    "bm25 = pt.io.read_results('run.txt')\n",
    "\n",
    "pt.Experiment(\n",
    "    [\n",
    "        tira.pt.from_submission('ir-benchmarks/tira-ir-starter/BM25 Re-Rank (tira-ir-starter-pyterrier)', dataset_id),\n",
    "        tira.pt.from_submission('ir-benchmarks/fschlatt/sparse-cross-encoder-4-512', dataset_id),\n",
    "        bm25, \n",
    "    ],\n",
    "    topics,\n",
    "    pt_dataset.get_qrels(),\n",
    "    [\"ndcg_cut.10\", \"recip_rank\", \"recall_1000\"],\n",
    "    names=[\"BM25\", \"Sparse Cross Encoder\", \"BM25 (reverted index)\"]\n",
    ")"
   ]
  },
  {
   "cell_type": "code",
   "execution_count": 61,
   "metadata": {},
   "outputs": [
    {
     "data": {
      "text/html": [
       "<div>\n",
       "<style scoped>\n",
       "    .dataframe tbody tr th:only-of-type {\n",
       "        vertical-align: middle;\n",
       "    }\n",
       "\n",
       "    .dataframe tbody tr th {\n",
       "        vertical-align: top;\n",
       "    }\n",
       "\n",
       "    .dataframe thead th {\n",
       "        text-align: right;\n",
       "    }\n",
       "</style>\n",
       "<table border=\"1\" class=\"dataframe\">\n",
       "  <thead>\n",
       "    <tr style=\"text-align: right;\">\n",
       "      <th></th>\n",
       "      <th>name</th>\n",
       "      <th>ndcg_cut.10</th>\n",
       "      <th>recip_rank</th>\n",
       "      <th>recall_1000</th>\n",
       "    </tr>\n",
       "  </thead>\n",
       "  <tbody>\n",
       "    <tr>\n",
       "      <th>0</th>\n",
       "      <td>BM25</td>\n",
       "      <td>0.820021</td>\n",
       "      <td>0.900293</td>\n",
       "      <td>0.952645</td>\n",
       "    </tr>\n",
       "  </tbody>\n",
       "</table>\n",
       "</div>"
      ],
      "text/plain": [
       "   name  ndcg_cut.10  recip_rank  recall_1000\n",
       "0  BM25     0.820021    0.900293     0.952645"
      ]
     },
     "execution_count": 61,
     "metadata": {},
     "output_type": "execute_result"
    }
   ],
   "source": [
    "# This assumes we have execited the retrieve-with-pyterrier.ipynb notebook before to create the run.txt file\n",
    "bm25 = pt.io.read_results('run.txt')\n",
    "\n",
    "pt.Experiment(\n",
    "    [bm25],\n",
    "    pt_dataset.get_topics('title'),\n",
    "    pt_dataset.get_qrels(),\n",
    "    [\"ndcg_cut.10\", \"recip_rank\", \"recall_1000\"],\n",
    "    names=[\"BM25\"]\n",
    ")"
   ]
  },
  {
   "cell_type": "code",
   "execution_count": null,
   "metadata": {},
   "outputs": [],
   "source": []
  }
 ],
 "metadata": {
  "kernelspec": {
   "display_name": "Python 3",
   "language": "python",
   "name": "python3"
  },
  "language_info": {
   "codemirror_mode": {
    "name": "ipython",
    "version": 3
   },
   "file_extension": ".py",
   "mimetype": "text/x-python",
   "name": "python",
   "nbconvert_exporter": "python",
   "pygments_lexer": "ipython3",
   "version": "3.10.12"
  }
 },
 "nbformat": 4,
 "nbformat_minor": 2
}
