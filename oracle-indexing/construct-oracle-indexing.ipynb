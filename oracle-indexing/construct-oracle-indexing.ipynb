{
 "cells": [
  {
   "cell_type": "code",
   "execution_count": 26,
   "metadata": {},
   "outputs": [],
   "source": [
    "from tira.third_party_integrations import ir_datasets\n",
    "from tqdm import tqdm\n",
    "\n",
    "dataset = ir_datasets.load('ir-lab-padua-2024/longeval-tiny-train-20240315-training')\n",
    "queries_dict = {i.query_id: i.query for i in dataset.queries_iter()}\n",
    "docs_store = dataset.docs_store()"
   ]
  },
  {
   "cell_type": "code",
   "execution_count": 24,
   "metadata": {},
   "outputs": [],
   "source": []
  },
  {
   "cell_type": "code",
   "execution_count": 27,
   "metadata": {},
   "outputs": [
    {
     "name": "stderr",
     "output_type": "stream",
     "text": [
      "3it [00:00, 14043.43it/s]"
     ]
    },
    {
     "name": "stdout",
     "output_type": "stream",
     "text": [
      "q06223196 doc062200204465 1\n"
     ]
    },
    {
     "name": "stderr",
     "output_type": "stream",
     "text": [
      "\n"
     ]
    },
    {
     "data": {
      "text/plain": [
       "2626"
      ]
     },
     "execution_count": 27,
     "metadata": {},
     "output_type": "execute_result"
    }
   ],
   "source": [
    "oracle_index = []\n",
    "\n",
    "for i in tqdm(dataset.qrels_iter()):\n",
    "    if i.relevance <= 0:\n",
    "        continue\n",
    "    doc = docs_store.get(i.doc_id)\n",
    "    if doc is None:\n",
    "        continue\n",
    "    oracle_index += [{'query_id': i.query_id, 'doc_id': i.doc_id, 'relevance': i.relevance, 'query': queries_dict[i.query_id], 'doc': doc['text']}]\n",
    "\n",
    "len([i for i in dataset.qrels_iter() if i.relevance > 0])"
   ]
  },
  {
   "cell_type": "code",
   "execution_count": 21,
   "metadata": {},
   "outputs": [
    {
     "name": "stdout",
     "output_type": "stream",
     "text": [
      "Download from Zenodo: https://zenodo.org/records/10628882/files/training-20231104-inputs.zip?download=1\n"
     ]
    },
    {
     "name": "stderr",
     "output_type": "stream",
     "text": [
      "Download: 100%|██████████| 83.2M/83.2M [00:14<00:00, 6.15MiB/s]\n"
     ]
    },
    {
     "name": "stdout",
     "output_type": "stream",
     "text": [
      "Download finished. Extract...\n",
      "Extraction finished:  /root/.tira/extracted_datasets/ir-lab-padua-2024/training-20231104-training/\n"
     ]
    }
   ],
   "source": []
  },
  {
   "cell_type": "code",
   "execution_count": 22,
   "metadata": {},
   "outputs": [
    {
     "data": {
      "text/plain": [
       "GenericDoc(doc_id='doc062200204465', text=\"\\n\\nBOIS\\nDIRECT\\nSCIENCE shelter camping car carport\\n- Carport Car shelters\\nCheaper than a traditional garage, more aesthetic, the carport or awning is an ideal solution to protect your vehicle.\\nLike all our other achievements, we only carry out tailor-made projects.\\nThe following table shows the results of the survey.\\nOur kits include various pieces of wood (posts, beams, panels and rough sawing links), assembly elements, plan sketches and mounting instructions.\\nWood: douglas from Brittany\\nStandard model\\nR200 - 1 slope 10 per cent\\nSingle car shelter 10% gradient: several dimensions and rates in concequisites: see Standard model R255: €2040.00\\nShelter car or camper car range\\nROBUST (photo above)\\nwith acrotere (flat-roofed headband)\\n6 x 5 useful height (passage) 2.1m for 2 vehicles.\\nPoteaux 15cm x 15cm Kit to be assembled / douglas petrol felled and sawn in Brittany / class 3 naturally imputrescible (no need for lasure or other treatment) the kit includes the frame, the linkage elements (screw/hoof...) the mounting plans.\\nStandard model R145: €1610.00: the kit comprising the various pieces of wood (posts, beams, breakdowns and rough sawing links and linkage elements), assembly elements, plan sketches and mounting instructions.\\noutside coverage.\\nthe kit comprising the various pieces of wood (posts, beams, breakdowns and rough sawing links and linkage elements)\\n, assembly elements, plan sketches and assembly instructions.\\noutside coverage.\\ncarport robust'R350 \\uf041\\noutside TEL coverage: 02 96 78 01 36 LOCAL WOOD As of 1 November 2021, they do not take into account variations in wood prices and supplies that are beyond our control and are therefore likely to vary significantly.\\n\\n\\n\")"
      ]
     },
     "execution_count": 22,
     "metadata": {},
     "output_type": "execute_result"
    }
   ],
   "source": [
    "docs_store.get('doc062200204465')"
   ]
  }
 ],
 "metadata": {
  "kernelspec": {
   "display_name": "Python 3",
   "language": "python",
   "name": "python3"
  },
  "language_info": {
   "codemirror_mode": {
    "name": "ipython",
    "version": 3
   },
   "file_extension": ".py",
   "mimetype": "text/x-python",
   "name": "python",
   "nbconvert_exporter": "python",
   "pygments_lexer": "ipython3",
   "version": "3.10.12"
  }
 },
 "nbformat": 4,
 "nbformat_minor": 2
}
