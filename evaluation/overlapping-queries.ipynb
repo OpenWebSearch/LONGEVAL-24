{
 "cells": [
  {
   "cell_type": "code",
   "execution_count": 2,
   "metadata": {},
   "outputs": [],
   "source": [
    "from tira.third_party_integrations import ensure_pyterrier_is_loaded\n",
    "from tira.rest_api_client import Client\n",
    "\n",
    "# This method ensures that that PyTerrier is loaded so that it also works in the TIRA sandbox\n",
    "ensure_pyterrier_is_loaded()\n",
    "import pyterrier as pt\n",
    "\n",
    "tira = Client()"
   ]
  },
  {
   "cell_type": "code",
   "execution_count": 37,
   "metadata": {},
   "outputs": [],
   "source": [
    "DATASETS = {\n",
    "    '2023-01': 'longeval-2023-01-20240423-training',\n",
    "    '2023-06': 'longeval-2023-06-20240418-training',\n",
    "    '2023-08': 'longeval-2023-08-20240418-training',\n",
    "    '2022-06a': 'longeval-heldout-20230513-training',\n",
    "    '2022-06b': 'longeval-train-20230513-training',\n",
    "    '2022-07': 'longeval-short-july-20230513-training',\n",
    "    '2022-09': 'longeval-long-september-20230513-training'\n",
    "}\n",
    "\n",
    "topics = {}\n",
    "\n",
    "def report_intersection(ds_id):\n",
    "    old_2023 = set(topics['2023-01'].values())\n",
    "    old_2022 = set(list(topics['2022-06a'].values()) + list(topics['2022-06b'].values()) + list(topics['2022-07'].values()) + list(topics['2022-09'].values()) + list(topics['2023-01'].values()))\n",
    "    actual = topics[ds_id].values()\n",
    "    overlapping = len([i for i in actual if i in old_2023])\n",
    "    overlapping_before = len([i for i in actual if i in old_2022])\n",
    "    return {\n",
    "        'overlapping_2023_01_total': overlapping,\n",
    "        'overlapping_2023_01_percent': overlapping / len(topics[ds_id].values()),\n",
    "        'overlapping_before_2023_01_total': overlapping_before,\n",
    "        'overlapping_before_2023_01_percent': overlapping_before / len(topics[ds_id].values()),\n",
    "    }"
   ]
  },
  {
   "cell_type": "code",
   "execution_count": 31,
   "metadata": {},
   "outputs": [
    {
     "data": {
      "text/plain": [
       "dict_keys([])"
      ]
     },
     "execution_count": 31,
     "metadata": {},
     "output_type": "execute_result"
    }
   ],
   "source": [
    "topics.keys()"
   ]
  },
  {
   "cell_type": "code",
   "execution_count": 38,
   "metadata": {},
   "outputs": [],
   "source": [
    "for d, ds_id in DATASETS.items():\n",
    "    pt_dataset = pt.get_dataset(f'irds:ir-benchmarks/{ds_id}')\n",
    "    pt_dataset.get_topics('text')\n",
    "    topics[d] = {i['qid']: i['query'].lower().strip() for _, i in pt_dataset.get_topics('text').iterrows()}\n"
   ]
  },
  {
   "cell_type": "code",
   "execution_count": 39,
   "metadata": {},
   "outputs": [
    {
     "data": {
      "text/plain": [
       "{'overlapping_2023_01_total': 155,\n",
       " 'overlapping_2023_01_percent': 0.3808353808353808,\n",
       " 'overlapping_before_2023_01_total': 211,\n",
       " 'overlapping_before_2023_01_percent': 0.5184275184275184}"
      ]
     },
     "execution_count": 39,
     "metadata": {},
     "output_type": "execute_result"
    }
   ],
   "source": [
    "report_intersection('2023-06')"
   ]
  },
  {
   "cell_type": "code",
   "execution_count": 40,
   "metadata": {},
   "outputs": [
    {
     "data": {
      "text/plain": [
       "{'overlapping_2023_01_total': 312,\n",
       " 'overlapping_2023_01_percent': 0.20553359683794467,\n",
       " 'overlapping_before_2023_01_total': 564,\n",
       " 'overlapping_before_2023_01_percent': 0.3715415019762846}"
      ]
     },
     "execution_count": 40,
     "metadata": {},
     "output_type": "execute_result"
    }
   ],
   "source": [
    "report_intersection('2023-08')"
   ]
  }
 ],
 "metadata": {
  "kernelspec": {
   "display_name": "Python 3",
   "language": "python",
   "name": "python3"
  },
  "language_info": {
   "codemirror_mode": {
    "name": "ipython",
    "version": 3
   },
   "file_extension": ".py",
   "mimetype": "text/x-python",
   "name": "python",
   "nbconvert_exporter": "python",
   "pygments_lexer": "ipython3",
   "version": "3.10.12"
  }
 },
 "nbformat": 4,
 "nbformat_minor": 2
}
